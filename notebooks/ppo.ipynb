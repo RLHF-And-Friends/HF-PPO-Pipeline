{
 "cells": [
  {
   "cell_type": "code",
   "execution_count": 1,
   "metadata": {},
   "outputs": [],
   "source": [
    "import os\n",
    "\n",
    "from datasets import load_dataset\n",
    "\n",
    "from transformers import (\n",
    "    AutoModelForCausalLM,\n",
    "    AutoModelForSequenceClassification,\n",
    "    AutoTokenizer,\n",
    ")\n",
    "\n",
    "from peft import (\n",
    "    PeftModelForSequenceClassification,\n",
    "    TaskType, \n",
    "    get_peft_model\n",
    ")\n",
    "\n",
    "from trl import (\n",
    "    ModelConfig,\n",
    "    PPOConfig,\n",
    "    PPOTrainer,\n",
    "    get_peft_config,\n",
    "    get_quantization_config,\n",
    ")\n",
    "\n",
    "from accelerate import PartialState\n",
    "\n",
    "from fed_ppo.utils import prepare_ppo_dataset"
   ]
  },
  {
   "cell_type": "markdown",
   "metadata": {},
   "source": [
    "### Devices"
   ]
  },
  {
   "cell_type": "code",
   "execution_count": 2,
   "metadata": {},
   "outputs": [],
   "source": [
    "# Visible devices\n",
    "# -------------------------------------------------------------------------------------------------\n",
    "VISIBLE_DEVICES = \"2\"\n",
    "# -------------------------------------------------------------------------------------------------\n",
    "\n",
    "# Enumerate GPUs based on their PCI bus IDs\n",
    "os.environ[\"CUDA_DEVICE_ORDER\"] = \"PCI_BUS_ID\"\n",
    "\n",
    "os.environ[\"CUDA_VISIBLE_DEVICES\"] = f\"{VISIBLE_DEVICES}\""
   ]
  },
  {
   "cell_type": "markdown",
   "metadata": {},
   "source": [
    "### Models & Dataset"
   ]
  },
  {
   "cell_type": "code",
   "execution_count": 3,
   "metadata": {},
   "outputs": [],
   "source": [
    "# Policy model path\n",
    "# =================================================================================================\n",
    "POLICY_PATH = \"meta-llama/Llama-3.2-1B-Instruct\"\n",
    "# =================================================================================================\n",
    "POLICY_NAME = POLICY_PATH.split('/')[1]\n",
    "\n",
    "# Reward model path\n",
    "# =================================================================================================\n",
    "REWARD_PATH = \"RLHF-And-Friends/Llama-3.2-1B-Instruct-Reward-LoRA8r\"\n",
    "# =================================================================================================\n",
    "REWARD_NAME = REWARD_PATH.split('/')[1]\n",
    "\n",
    "# Prompts dataset path\n",
    "# =================================================================================================\n",
    "DATASET_PATH        = \"HuggingFaceH4/ultrachat_200k\"\n",
    "DATASET_TRAIN_SPLIT = \"train_gen\"\n",
    "DATASET_VAL_SPLIT   = \"test_gen\"\n",
    "# =================================================================================================\n",
    "DATASET_NAME        = DATASET_PATH.split('/')[1]"
   ]
  },
  {
   "cell_type": "markdown",
   "metadata": {},
   "source": [
    "### WandB settings"
   ]
  },
  {
   "cell_type": "code",
   "execution_count": 4,
   "metadata": {},
   "outputs": [],
   "source": [
    "os.environ[\"WANDB_PROJECT\"] = f\"{POLICY_NAME}-PPO-{DATASET_NAME}\"\n",
    "os.environ[\"WANDB_ENTITY\"] = \"RADFAN\""
   ]
  },
  {
   "cell_type": "markdown",
   "metadata": {},
   "source": [
    "### Models' configs"
   ]
  },
  {
   "cell_type": "code",
   "execution_count": 5,
   "metadata": {},
   "outputs": [],
   "source": [
    "# Policy\n",
    "# =================================================================================================\n",
    "\n",
    "policy_model_config = ModelConfig(\n",
    "    model_name_or_path   = POLICY_PATH,\n",
    "    # LoRA\n",
    "    # ---------------------------------------------------------------------------------------------\n",
    "    use_peft             = True,\n",
    "    lora_r               = 8,\n",
    "    lora_alpha           = 16,\n",
    "    lora_dropout         = 0.0,\n",
    "    lora_task_type       = TaskType.CAUSAL_LM,\n",
    "    lora_target_modules  = [\"q_proj\", \"k_proj\", \"v_proj\", \"o_proj\"],\n",
    "    # Quantization\n",
    "    # ---------------------------------------------------------------------------------------------\n",
    "    load_in_8bit         = False,\n",
    "    load_in_4bit         = False,\n",
    "    torch_dtype          = \"bfloat16\",\n",
    ")\n",
    "\n",
    "# Value model\n",
    "# =================================================================================================\n",
    "\n",
    "value_model_config = ModelConfig(\n",
    "    # LoRA\n",
    "    # ---------------------------------------------------------------------------------------------\n",
    "    use_peft            = True,\n",
    "    lora_r              = 8,\n",
    "    lora_alpha          = 16,\n",
    "    lora_dropout        = 0.0,\n",
    "    lora_task_type      = TaskType.SEQ_CLS,\n",
    "    lora_target_modules = [\"q_proj\", \"k_proj\", \"v_proj\", \"o_proj\"],\n",
    "    # Quantization\n",
    "    # ---------------------------------------------------------------------------------------------\n",
    "    load_in_8bit        = False,\n",
    "    load_in_4bit        = False,\n",
    "    torch_dtype         = \"bfloat16\",\n",
    ")\n",
    "\n",
    "# Reward model\n",
    "# =================================================================================================\n",
    "\n",
    "reward_model_config = ModelConfig(\n",
    "    model_name_or_path  = REWARD_PATH,\n",
    "    use_peft            = True,\n",
    "    load_in_8bit        = False,\n",
    "    load_in_4bit        = False,\n",
    ")"
   ]
  },
  {
   "cell_type": "markdown",
   "metadata": {},
   "source": [
    "### PPO Trainer config"
   ]
  },
  {
   "cell_type": "code",
   "execution_count": 6,
   "metadata": {},
   "outputs": [],
   "source": [
    "ppo_config = PPOConfig(\n",
    "    # Common\n",
    "    # ---------------------------------------------------------------------------------------------\n",
    "    run_name            = f\"LoRA-{policy_model_config.lora_r}\",\n",
    "    output_dir          = f\"{os.environ['WANDB_PROJECT']}-LoRA-{policy_model_config.lora_r}\",\n",
    "    dataset_num_proc    = 16,\n",
    "    num_mini_batches    = 1,\n",
    "    learning_rate       = 1e-5,\n",
    "    per_device_train_batch_size = 4,\n",
    "    gradient_accumulation_steps = 4,\n",
    "    num_train_epochs    = 1,\n",
    "    response_length     = 512,\n",
    "    # Push to hub after training\n",
    "    # ---------------------------------------------------------------------------------------------\n",
    "    push_to_hub         = True,\n",
    "    hub_model_id        = f\"RLHF-And-Friends/{POLICY_NAME}-PPO-{DATASET_NAME}\"\n",
    "                          f\"-LoRA-{policy_model_config.lora_r}\",\n",
    "\n",
    "    # On-policy params\n",
    "    # ---------------------------------------------------------------------------------------------\n",
    "    missing_eos_penalty = 1.0,\n",
    "    local_rollout_forward_batch_size = 1,\n",
    "\n",
    "    # PPO params\n",
    "    # ---------------------------------------------------------------------------------------------\n",
    "    num_ppo_epochs      = 1,\n",
    "    whiten_rewards      = False,\n",
    "    kl_coef             = 0.05,\n",
    "    cliprange           = 0.2,\n",
    "    vf_coef             = 0.1,\n",
    "    cliprange_value     = 0.2,\n",
    "    gamma               = 1.0,\n",
    "    lam                 = 0.95,\n",
    ")"
   ]
  },
  {
   "cell_type": "markdown",
   "metadata": {},
   "source": [
    "### Initialize models and tokenizer"
   ]
  },
  {
   "cell_type": "code",
   "execution_count": 7,
   "metadata": {},
   "outputs": [
    {
     "name": "stderr",
     "output_type": "stream",
     "text": [
      "Some weights of LlamaForSequenceClassification were not initialized from the model checkpoint at meta-llama/Llama-3.2-1B-Instruct and are newly initialized: ['score.weight']\n",
      "You should probably TRAIN this model on a down-stream task to be able to use it for predictions and inference.\n"
     ]
    }
   ],
   "source": [
    "# Tokenizer\n",
    "# -------------------------------------------------------------------------------------------------\n",
    "\n",
    "tokenizer = AutoTokenizer.from_pretrained(\n",
    "    policy_model_config.model_name_or_path,\n",
    "    use_fast = True,\n",
    ")\n",
    "if tokenizer.pad_token is None:\n",
    "    tokenizer.add_special_tokens({\"pad_token\": \"[PAD]\"})\n",
    "\n",
    "\n",
    "# SFT model\n",
    "# -------------------------------------------------------------------------------------------------\n",
    "\n",
    "sft_policy = AutoModelForCausalLM.from_pretrained(\n",
    "    policy_model_config.model_name_or_path,\n",
    "    quantization_config = get_quantization_config(policy_model_config)\n",
    ")\n",
    "sft_policy.resize_token_embeddings(len(tokenizer), mean_resizing=False)\n",
    "sft_policy.config.pad_token_id = tokenizer.pad_token_id\n",
    "\n",
    "# Trainable policy\n",
    "# -------------------------------------------------------------------------------------------------\n",
    "\n",
    "if policy_model_config.use_peft:\n",
    "    policy = get_peft_model(sft_policy, get_peft_config(policy_model_config))\n",
    "else:\n",
    "    policy = AutoModelForCausalLM.from_pretrained(\n",
    "        policy_model_config.model_name_or_path\n",
    "    )\n",
    "\n",
    "# Base model for Value and Reward models\n",
    "# -------------------------------------------------------------------------------------------------\n",
    "\n",
    "base_value_head_model = AutoModelForSequenceClassification.from_pretrained(\n",
    "    policy_model_config.model_name_or_path,\n",
    "    num_labels = 1,\n",
    "    quantization_config = get_quantization_config(value_model_config)\n",
    ")\n",
    "base_value_head_model.resize_token_embeddings(len(tokenizer), mean_resizing=False)\n",
    "base_value_head_model.config.pad_token_id = tokenizer.pad_token_id\n",
    "\n",
    "# Value model with LoRA\n",
    "# -------------------------------------------------------------------------------------------------\n",
    "\n",
    "if value_model_config.use_peft:\n",
    "    value_model = get_peft_model(\n",
    "        base_value_head_model, get_peft_config(value_model_config))\n",
    "else:\n",
    "    value_model = base_value_head_model\n",
    "\n",
    "# Reward model\n",
    "# -------------------------------------------------------------------------------------------------\n",
    "\n",
    "if reward_model_config.use_peft:\n",
    "    reward_model = PeftModelForSequenceClassification.from_pretrained(\n",
    "        base_value_head_model,\n",
    "        reward_model_config.model_name_or_path,\n",
    "        num_labels = 1,\n",
    "        quantization_config = get_quantization_config(reward_model_config)\n",
    "    )\n",
    "else:\n",
    "    reward_model = AutoModelForSequenceClassification.from_pretrained(\n",
    "        reward_model_config.model_name_or_path,\n",
    "        num_labels = 1,\n",
    "        quantization_config = get_quantization_config(reward_model_config)\n",
    "    )"
   ]
  },
  {
   "cell_type": "markdown",
   "metadata": {},
   "source": [
    "### Initialize dataset"
   ]
  },
  {
   "cell_type": "code",
   "execution_count": 8,
   "metadata": {},
   "outputs": [],
   "source": [
    "train_dataset = load_dataset(DATASET_PATH, split=DATASET_TRAIN_SPLIT).select(range(1000))\n",
    "eval_dataset = load_dataset(DATASET_PATH, split=DATASET_VAL_SPLIT).select(range(100))\n",
    "\n",
    "# Compute that only on the main process for faster data processing.\n",
    "# see: https://github.com/huggingface/trl/pull/1255\n",
    "with PartialState().local_main_process_first():\n",
    "    train_dataset = prepare_ppo_dataset(train_dataset, tokenizer)\n",
    "    eval_dataset = prepare_ppo_dataset(eval_dataset, tokenizer)\n"
   ]
  },
  {
   "cell_type": "markdown",
   "metadata": {},
   "source": [
    "### Training"
   ]
  },
  {
   "cell_type": "code",
   "execution_count": null,
   "metadata": {},
   "outputs": [],
   "source": [
    "trainer = PPOTrainer(\n",
    "    args            = ppo_config,\n",
    "    processing_class  = tokenizer,\n",
    "    model             = policy,\n",
    "    ref_model         = sft_policy,\n",
    "    reward_model      = reward_model,\n",
    "    value_model       = value_model,\n",
    "    train_dataset     = train_dataset,\n",
    "    eval_dataset      = eval_dataset,\n",
    ")\n",
    "\n",
    "trainer.train()"
   ]
  },
  {
   "cell_type": "markdown",
   "metadata": {},
   "source": [
    "### Save model"
   ]
  },
  {
   "cell_type": "code",
   "execution_count": null,
   "metadata": {},
   "outputs": [],
   "source": [
    "trainer.save_model(ppo_config.output_dir)\n",
    "if ppo_config.push_to_hub:\n",
    "    trainer.push_to_hub(dataset_name=DATASET_PATH)"
   ]
  }
 ],
 "metadata": {
  "kernelspec": {
   "display_name": ".fed-ppo-venv",
   "language": "python",
   "name": "python3"
  },
  "language_info": {
   "codemirror_mode": {
    "name": "ipython",
    "version": 3
   },
   "file_extension": ".py",
   "mimetype": "text/x-python",
   "name": "python",
   "nbconvert_exporter": "python",
   "pygments_lexer": "ipython3",
   "version": "3.10.12"
  }
 },
 "nbformat": 4,
 "nbformat_minor": 2
}
