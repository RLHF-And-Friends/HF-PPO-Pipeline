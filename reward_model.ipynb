{
 "cells": [
  {
   "cell_type": "code",
   "execution_count": 1,
   "metadata": {},
   "outputs": [],
   "source": [
    "import os\n",
    "import warnings\n",
    "import torch\n",
    "\n",
    "from datasets import load_dataset\n",
    "from transformers import AutoModelForSequenceClassification, AutoTokenizer, HfArgumentParser\n",
    "\n",
    "from trl import (\n",
    "    ModelConfig,\n",
    "    RewardConfig,\n",
    "    RewardTrainer,\n",
    "    ScriptArguments,\n",
    "    get_kbit_device_map,\n",
    "    get_peft_config,\n",
    "    get_quantization_config,\n",
    "    setup_chat_format,\n",
    ")\n",
    "\n",
    "os.environ[\"CUDA_VISIBLE_DEVICES\"] = \"6, 7\"\n",
    "\n",
    "os.environ[\"WANDB_PROJECT\"] = \"Pythia-PPO\"\n",
    "os.environ[\"WANDB_ENTITY\"] = \"RADFAN\""
   ]
  },
  {
   "cell_type": "code",
   "execution_count": 2,
   "metadata": {},
   "outputs": [],
   "source": [
    "# =============================================================================\n",
    "# Configs\n",
    "# =============================================================================\n",
    "\n",
    "model_config = ModelConfig(\n",
    "    model_name_or_path  = \"EleutherAI/pythia-70m\",\n",
    "    trust_remote_code   = False,\n",
    "    # load_in_8bit        = False,\n",
    "    # load_in_4bit        = False,\n",
    "    use_peft            = True,\n",
    "    lora_task_type      = \"SEQ_CLS\",\n",
    "    lora_r              = 8,\n",
    "    lora_alpha          = 8,\n",
    "\n",
    ")\n",
    "training_args = RewardConfig(\n",
    "    output_dir                  = \"RLHF-And-Friends/Pythia-70M-Reward\",\n",
    "    run_name                    = \"RLHF-And-Friends/Pythia-70M-Reward-LoRA8-lr-4\",\n",
    "    per_device_train_batch_size = 8,\n",
    "    num_train_epochs            = 1,\n",
    "    # gradient_checkpointing      = True,\n",
    "    # gradient accumulation steps = 1,\n",
    "    learning_rate               = 1.0e-4,\n",
    "    logging_steps               = 25,\n",
    "    eval_strategy               = \"steps\",\n",
    "    eval_steps                  = 125,\n",
    "    max_length                  = 2048,\n",
    "    # center_reward_coefficients = None,\n",
    "    push_to_hub                 = True,\n",
    "    hub_model_id                = \"RLHF-And-Friends/Pythia-70M-Reward\"\n",
    ")\n",
    "script_args = ScriptArguments(\n",
    "    dataset_name          = \"trl-lib/ultrafeedback_binarized\",\n",
    "    # dataset_train_split = \"train\",\n",
    "    # dataset_test_split  = \"test\",\n",
    ")"
   ]
  },
  {
   "cell_type": "code",
   "execution_count": 3,
   "metadata": {},
   "outputs": [
    {
     "name": "stderr",
     "output_type": "stream",
     "text": [
      "Some weights of GPTNeoXForSequenceClassification were not initialized from the model checkpoint at EleutherAI/pythia-70m and are newly initialized: ['score.weight']\n",
      "You should probably TRAIN this model on a down-stream task to be able to use it for predictions and inference.\n"
     ]
    }
   ],
   "source": [
    "# =============================================================================\n",
    "# Model & Tokenizer\n",
    "# =============================================================================\n",
    "\n",
    "torch_dtype = (\n",
    "    model_config.torch_dtype\n",
    "    if model_config.torch_dtype in [\"auto\", None]\n",
    "    else getattr(torch, model_config.torch_dtype)\n",
    ")\n",
    "quantization_config = get_quantization_config(model_config)\n",
    "model_kwargs = dict(\n",
    "    revision=model_config.model_revision,\n",
    "    device_map=get_kbit_device_map() if quantization_config is not None else None,\n",
    "    quantization_config=quantization_config,\n",
    "    use_cache=False if training_args.gradient_checkpointing else True,\n",
    "    torch_dtype=torch_dtype,\n",
    ")\n",
    "tokenizer = AutoTokenizer.from_pretrained(\n",
    "    model_config.model_name_or_path, trust_remote_code=model_config.trust_remote_code, use_fast=True\n",
    ")\n",
    "model = AutoModelForSequenceClassification.from_pretrained(\n",
    "    model_config.model_name_or_path, num_labels=1, trust_remote_code=model_config.trust_remote_code, **model_kwargs\n",
    ")\n",
    "# Align padding tokens between tokenizer and model\n",
    "model.config.pad_token_id = tokenizer.pad_token_id\n",
    "\n",
    "# If post-training a base model, use ChatML as the default template\n",
    "if tokenizer.chat_template is None:\n",
    "    model, tokenizer = setup_chat_format(model, tokenizer)\n",
    "\n",
    "if model_config.use_peft and model_config.lora_task_type != \"SEQ_CLS\":\n",
    "    warnings.warn(\n",
    "        \"You are using a `task_type` that is different than `SEQ_CLS` for PEFT. This will lead to silent bugs\"\n",
    "        \" Make sure to pass --lora_task_type SEQ_CLS when using this script with PEFT.\"\n",
    "    )"
   ]
  },
  {
   "cell_type": "code",
   "execution_count": 4,
   "metadata": {},
   "outputs": [],
   "source": [
    "# =============================================================================\n",
    "# Load dataset\n",
    "# =============================================================================\n",
    "\n",
    "dataset       = load_dataset(script_args.dataset_name)\n",
    "train_dataset = dataset[script_args.dataset_train_split]\n",
    "eval_dataset  = (\n",
    "    dataset[script_args.dataset_test_split] \n",
    "    if training_args.eval_strategy != \"no\" \n",
    "    else None\n",
    ")"
   ]
  },
  {
   "cell_type": "code",
   "execution_count": null,
   "metadata": {},
   "outputs": [],
   "source": [
    "# =============================================================================\n",
    "# Training\n",
    "# =============================================================================\n",
    "\n",
    "trainer = RewardTrainer(\n",
    "    model=model,\n",
    "    processing_class=tokenizer,\n",
    "    args=training_args,\n",
    "    train_dataset=train_dataset,\n",
    "    eval_dataset=eval_dataset,\n",
    "    peft_config=get_peft_config(model_config),\n",
    ")\n",
    "\n",
    "trainer.train()"
   ]
  },
  {
   "cell_type": "code",
   "execution_count": null,
   "metadata": {},
   "outputs": [],
   "source": [
    "# =============================================================================\n",
    "# Save model and push to Hub\n",
    "# =============================================================================\n",
    "\n",
    "trainer.save_model(training_args.output_dir)\n",
    "if training_args.push_to_hub:\n",
    "    trainer.push_to_hub(dataset_name=script_args.dataset_name)"
   ]
  },
  {
   "cell_type": "code",
   "execution_count": null,
   "metadata": {},
   "outputs": [],
   "source": [
    "# =============================================================================\n",
    "# Evaluate Model\n",
    "# =============================================================================\n",
    "\n",
    "if training_args.eval_strategy != \"no\":\n",
    "    metrics = trainer.evaluate()\n",
    "    trainer.log_metrics(\"eval\", metrics)\n",
    "    trainer.save_metrics(\"eval\", metrics)"
   ]
  }
 ],
 "metadata": {
  "kernelspec": {
   "display_name": ".fed-ppo-venv",
   "language": "python",
   "name": "python3"
  },
  "language_info": {
   "codemirror_mode": {
    "name": "ipython",
    "version": 3
   },
   "file_extension": ".py",
   "mimetype": "text/x-python",
   "name": "python",
   "nbconvert_exporter": "python",
   "pygments_lexer": "ipython3",
   "version": "3.10.12"
  }
 },
 "nbformat": 4,
 "nbformat_minor": 2
}
